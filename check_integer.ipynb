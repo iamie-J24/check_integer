{
 "cells": [
  {
   "cell_type": "code",
   "execution_count": 7,
   "metadata": {},
   "outputs": [
    {
     "name": "stdout",
     "output_type": "stream",
     "text": [
      "Please enter an integer: 2\n",
      "2 is indeed an integer\n"
     ]
    }
   ],
   "source": [
    "def check_int():\n",
    "    num = input('Please enter an integer: ')\n",
    "    try:\n",
    "        int(num)\n",
    "    except ValueError:\n",
    "        print('Unpeacefully converted to integer')\n",
    "    else:\n",
    "        print(num, 'is indeed an integer')\n",
    "        \n",
    "check_int()"
   ]
  },
  {
   "cell_type": "code",
   "execution_count": null,
   "metadata": {},
   "outputs": [],
   "source": []
  }
 ],
 "metadata": {
  "kernelspec": {
   "display_name": "Python 3",
   "language": "python",
   "name": "python3"
  },
  "language_info": {
   "codemirror_mode": {
    "name": "ipython",
    "version": 3
   },
   "file_extension": ".py",
   "mimetype": "text/x-python",
   "name": "python",
   "nbconvert_exporter": "python",
   "pygments_lexer": "ipython3",
   "version": "3.7.4"
  }
 },
 "nbformat": 4,
 "nbformat_minor": 2
}
